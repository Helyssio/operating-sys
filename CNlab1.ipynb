{
  "nbformat": 4,
  "nbformat_minor": 0,
  "metadata": {
    "colab": {
      "provenance": [],
      "authorship_tag": "ABX9TyPizAATl/zp0vENTA4mA2i9",
      "include_colab_link": true
    },
    "kernelspec": {
      "name": "python3",
      "display_name": "Python 3"
    },
    "language_info": {
      "name": "python"
    }
  },
  "cells": [
    {
      "cell_type": "markdown",
      "metadata": {
        "id": "view-in-github",
        "colab_type": "text"
      },
      "source": [
        "<a href=\"https://colab.research.google.com/github/Helyssio/operating-sys/blob/main/CNlab1.ipynb\" target=\"_parent\"><img src=\"https://colab.research.google.com/assets/colab-badge.svg\" alt=\"Open In Colab\"/></a>"
      ]
    },
    {
      "cell_type": "code",
      "execution_count": null,
      "metadata": {
        "id": "n2mF4eXGlwST"
      },
      "outputs": [],
      "source": [
        "#!/bin/bash\n",
        "\n",
        "#Function to set up TCP server using netcat\n",
        "setup_tcp_server() {\n",
        "    echo \"Setting up TCP server on port 12345 using netcat ...\"\n",
        "    nc -1 12345\n",
        "\n",
        "}\n",
        "\n",
        "#Function to install xinetd for multi-threaded TCP server (Optional)\n",
        "install-xinetd(){\n",
        "    echo \"INstalling xinetd ...\"\n",
        "    sudo apt update\n",
        "    sudo apt install -y xinetd\n",
        "}\n",
        "\n",
        "#Main function to execute the lab setup\n",
        "main(){\n",
        "    echo \"Starting the lab session setup...\"\n",
        "\n",
        "    #Step 2 : Setting up TCP server\n",
        "    setup_tcp_server &\n",
        "\n",
        "    #Step 5: install xinetd  (Optional)\n",
        "    #Uncomment the following line to install xinetd\n",
        "    # install_xinetd\n",
        "\n",
        "    echo \"Lab session setup complete\"\n",
        "}\n",
        "\n",
        "#Execute the main function\n",
        "main"
      ]
    }
  ]
}